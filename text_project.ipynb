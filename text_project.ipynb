{
 "cells": [
  {
   "cell_type": "markdown",
   "metadata": {},
   "source": [
    "# DATA20001 Deep Learning - Group Project\n",
    "## Text project\n",
    "\n",
    "**Due Thursday, December 13, before 23:59.**\n",
    "\n",
    "The task is to learn to assign the correct labels to news articles.  The corpus contains ~850K articles from Reuters.  The test set is about 10% of the articles. The data is unextracted in XML files.\n",
    "\n",
    "We're only giving you the code for downloading the data, and how to save the final model. The rest you'll have to do yourselves.\n",
    "\n",
    "Some comments and hints particular to the project:\n",
    "\n",
    "- One document may belong to many classes in this problem, i.e., it's a multi-label classification problem. In fact there are documents that don't belong to any class, and you should also be able to handle these correctly. Pay careful attention to how you design the outputs of the network (e.g., what activation to use) and what loss function should be used.\n",
    "- You may use word-embeddings to get better results. For example, you were already using a smaller version of the GloVE  embeddings in exercise 4. Do note that these embeddings take a lot of memory. \n",
    "- In the exercises we used e.g., `torchvision.datasets.MNIST` to handle the loading of the data in suitable batches. Here, you need to handle the dataloading yourself.  The easiest way is probably to create a custom `Dataset`. [See for example here for a tutorial](https://github.com/utkuozbulak/pytorch-custom-dataset-examples)."
   ]
  },
  {
   "cell_type": "markdown",
   "metadata": {},
   "source": [
    "## Download the data"
   ]
  },
  {
   "cell_type": "code",
   "execution_count": 2,
   "metadata": {},
   "outputs": [],
   "source": [
    "import os\n",
    "import sys\n",
    "import torch\n",
    "from torchvision.datasets.utils import download_url\n",
    "import zipfile"
   ]
  },
  {
   "cell_type": "code",
   "execution_count": 11,
   "metadata": {},
   "outputs": [
    {
     "name": "stdout",
     "output_type": "stream",
     "text": [
      "Downloading https://www.cs.helsinki.fi/u/jgpyykko/reuters.zip to train/reuters.zip\n",
      "None\n"
     ]
    }
   ],
   "source": [
    "train_path = 'train/'\n",
    "\n",
    "dl_file='reuters.zip'\n",
    "dl_url='https://www.cs.helsinki.fi/u/jgpyykko/'\n",
    "zip_path = os.path.join(train_path, dl_file)\n",
    "if not os.path.isfile(zip_path):\n",
    "    download_url(dl_url + dl_file, root=train_path, filename=dl_file, md5=None)\n",
    "with zipfile.ZipFile(zip_path) as zip_f:\n",
    "    zip_f.extractall(train_path)\n",
    "    os.unlink(zip_path)"
   ]
  },
  {
   "cell_type": "markdown",
   "metadata": {},
   "source": [
    "The above command downloads and extracts the data files into the `train` subdirectory.\n",
    "\n",
    "The files can be found in `train/`, and are named as `19970405.zip`, etc. You will have to manage the content of these zips to get the data. There is a readme which has links to further descriptions on the data.\n",
    "\n",
    "The class labels, or topics, can be found in the readme file called `train/codes.zip`.  The zip contains a file called \"topic_codes.txt\".  This file contains the special codes for the topics (about 130 of them), and the explanation - what each code means.  \n",
    "\n",
    "The XML document files contain the article's headline, the main body text, and the list of topic labels assigned to each article.  You will have to extract the topics of each article from the XML.  For example: \n",
    "&lt;code code=\"C18\"&gt; refers to the topic \"OWNERSHIP CHANGES\" (like a corporate buyout).\n",
    "\n",
    "You should pre-process the XML to extract the words from the article: the &lt;headline&gt; element and the &lt;text&gt;.  You should not need any other parts of the article."
   ]
  },
  {
   "cell_type": "markdown",
   "metadata": {},
   "source": [
    "## Your stuff goes here ..."
   ]
  },
  {
   "cell_type": "markdown",
   "metadata": {},
   "source": [
    "### Dataset extraction"
   ]
  },
  {
   "cell_type": "code",
   "execution_count": 12,
   "metadata": {},
   "outputs": [],
   "source": [
    "import os\n",
    "zip_path = \"train/REUTERS_CORPUS_2/\"\n",
    "txt_path = \"train/extracted/\""
   ]
  },
  {
   "cell_type": "code",
   "execution_count": 15,
   "metadata": {},
   "outputs": [
    {
     "name": "stdout",
     "output_type": "stream",
     "text": [
      "Extracting train data\n",
      "..Extracting  train/REUTERS_CORPUS_2/19970728.zip \t( 1 / 127 )\n",
      "..Extracting  train/REUTERS_CORPUS_2/19970404.zip \t( 2 / 127 )\n",
      "..Extracting  train/REUTERS_CORPUS_2/19970415.zip \t( 3 / 127 )\n",
      "..Extracting  train/REUTERS_CORPUS_2/19970412.zip \t( 4 / 127 )\n",
      "..Extracting  train/REUTERS_CORPUS_2/19970529.zip \t( 5 / 127 )\n",
      "..Extracting  train/REUTERS_CORPUS_2/19970805.zip \t( 6 / 127 )\n",
      "..Extracting  train/REUTERS_CORPUS_2/19970730.zip \t( 7 / 127 )\n",
      "..Extracting  train/REUTERS_CORPUS_2/19970604.zip \t( 8 / 127 )\n",
      "..Extracting  train/REUTERS_CORPUS_2/19970725.zip \t( 9 / 127 )\n",
      "..Extracting  train/REUTERS_CORPUS_2/19970710.zip \t( 10 / 127 )\n",
      "..Extracting  train/REUTERS_CORPUS_2/19970414.zip \t( 11 / 127 )\n",
      "..Extracting  train/REUTERS_CORPUS_2/19970705.zip \t( 12 / 127 )\n",
      "..Extracting  train/REUTERS_CORPUS_2/19970630.zip \t( 13 / 127 )\n",
      "..Extracting  train/REUTERS_CORPUS_2/19970626.zip \t( 14 / 127 )\n",
      "..Extracting  train/REUTERS_CORPUS_2/19970806.zip \t( 15 / 127 )\n",
      "..Extracting  train/REUTERS_CORPUS_2/19970622.zip \t( 16 / 127 )\n",
      "..Extracting  train/REUTERS_CORPUS_2/19970517.zip \t( 17 / 127 )\n",
      "..Extracting  train/REUTERS_CORPUS_2/19970817.zip \t( 18 / 127 )\n",
      "..Extracting  train/REUTERS_CORPUS_2/19970708.zip \t( 19 / 127 )\n",
      "..Extracting  train/REUTERS_CORPUS_2/19970522.zip \t( 20 / 127 )\n",
      "..Extracting  train/REUTERS_CORPUS_2/19970715.zip \t( 21 / 127 )\n",
      "..Extracting  train/REUTERS_CORPUS_2/19970720.zip \t( 22 / 127 )\n",
      "..Extracting  train/REUTERS_CORPUS_2/19970807.zip \t( 23 / 127 )\n",
      "..Extracting  train/REUTERS_CORPUS_2/19970610.zip \t( 24 / 127 )\n",
      "..Extracting  train/REUTERS_CORPUS_2/19970422.zip \t( 25 / 127 )\n",
      "..Extracting  train/REUTERS_CORPUS_2/19970810.zip \t( 26 / 127 )\n",
      "..Extracting  train/REUTERS_CORPUS_2/19970403.zip \t( 27 / 127 )\n",
      "..Extracting  train/REUTERS_CORPUS_2/19970518.zip \t( 28 / 127 )\n",
      "..Extracting  train/REUTERS_CORPUS_2/19970503.zip \t( 29 / 127 )\n",
      "..Extracting  train/REUTERS_CORPUS_2/19970512.zip \t( 30 / 127 )\n",
      "..Extracting  train/REUTERS_CORPUS_2/19970406.zip \t( 31 / 127 )\n",
      "..Extracting  train/REUTERS_CORPUS_2/19970511.zip \t( 32 / 127 )\n",
      "..Extracting  train/REUTERS_CORPUS_2/19970608.zip \t( 33 / 127 )\n",
      "..Extracting  train/REUTERS_CORPUS_2/19970802.zip \t( 34 / 127 )\n",
      "..Extracting  train/REUTERS_CORPUS_2/19970707.zip \t( 35 / 127 )\n",
      "..Extracting  train/REUTERS_CORPUS_2/19970409.zip \t( 36 / 127 )\n",
      "..Extracting  train/REUTERS_CORPUS_2/19970628.zip \t( 37 / 127 )\n",
      "..Extracting  train/REUTERS_CORPUS_2/19970429.zip \t( 38 / 127 )\n",
      "..Extracting  train/REUTERS_CORPUS_2/19970811.zip \t( 39 / 127 )\n",
      "..Extracting  train/REUTERS_CORPUS_2/19970424.zip \t( 40 / 127 )\n",
      "..Extracting  train/REUTERS_CORPUS_2/19970523.zip \t( 41 / 127 )\n",
      "..Extracting  train/REUTERS_CORPUS_2/19970601.zip \t( 42 / 127 )\n",
      "..Extracting  train/REUTERS_CORPUS_2/19970507.zip \t( 43 / 127 )\n",
      "..Extracting  train/REUTERS_CORPUS_2/19970411.zip \t( 44 / 127 )\n",
      "..Extracting  train/REUTERS_CORPUS_2/19970516.zip \t( 45 / 127 )\n",
      "..Extracting  train/REUTERS_CORPUS_2/19970408.zip \t( 46 / 127 )\n",
      "..Extracting  train/REUTERS_CORPUS_2/19970723.zip \t( 47 / 127 )\n",
      "..Extracting  train/REUTERS_CORPUS_2/19970815.zip \t( 48 / 127 )\n",
      "..Extracting  train/REUTERS_CORPUS_2/19970726.zip \t( 49 / 127 )\n",
      "..Extracting  train/REUTERS_CORPUS_2/19970703.zip \t( 50 / 127 )\n",
      "..Extracting  train/REUTERS_CORPUS_2/19970712.zip \t( 51 / 127 )\n",
      "..Extracting  train/REUTERS_CORPUS_2/19970616.zip \t( 52 / 127 )\n",
      "..Extracting  train/REUTERS_CORPUS_2/19970819.zip \t( 53 / 127 )\n",
      "..Extracting  train/REUTERS_CORPUS_2/19970419.zip \t( 54 / 127 )\n",
      "..Extracting  train/REUTERS_CORPUS_2/19970407.zip \t( 55 / 127 )\n",
      "..Extracting  train/REUTERS_CORPUS_2/19970506.zip \t( 56 / 127 )\n",
      "..Extracting  train/REUTERS_CORPUS_2/19970615.zip \t( 57 / 127 )\n",
      "..Extracting  train/REUTERS_CORPUS_2/19970612.zip \t( 58 / 127 )\n",
      "..Extracting  train/REUTERS_CORPUS_2/19970812.zip \t( 59 / 127 )\n",
      "..Extracting  train/REUTERS_CORPUS_2/19970706.zip \t( 60 / 127 )\n",
      "..Extracting  train/REUTERS_CORPUS_2/19970721.zip \t( 61 / 127 )\n",
      "..Extracting  train/REUTERS_CORPUS_2/19970526.zip \t( 62 / 127 )\n",
      "..Extracting  train/REUTERS_CORPUS_2/19970621.zip \t( 63 / 127 )\n",
      "..Extracting  train/REUTERS_CORPUS_2/19970509.zip \t( 64 / 127 )\n",
      "..Extracting  train/REUTERS_CORPUS_2/19970814.zip \t( 65 / 127 )\n",
      "..Extracting  train/REUTERS_CORPUS_2/19970813.zip \t( 66 / 127 )\n",
      "..Extracting  train/REUTERS_CORPUS_2/19970417.zip \t( 67 / 127 )\n",
      "..Extracting  train/REUTERS_CORPUS_2/19970513.zip \t( 68 / 127 )\n",
      "..Extracting  train/REUTERS_CORPUS_2/19970505.zip \t( 69 / 127 )\n",
      "..Extracting  train/REUTERS_CORPUS_2/19970519.zip \t( 70 / 127 )\n",
      "..Extracting  train/REUTERS_CORPUS_2/19970624.zip \t( 71 / 127 )\n",
      "..Extracting  train/REUTERS_CORPUS_2/19970731.zip \t( 72 / 127 )\n",
      "..Extracting  train/REUTERS_CORPUS_2/19970702.zip \t( 73 / 127 )\n",
      "..Extracting  train/REUTERS_CORPUS_2/19970525.zip \t( 74 / 127 )\n",
      "..Extracting  train/REUTERS_CORPUS_2/19970423.zip \t( 75 / 127 )\n",
      "..Extracting  train/REUTERS_CORPUS_2/19970418.zip \t( 76 / 127 )\n",
      "..Extracting  train/REUTERS_CORPUS_2/19970614.zip \t( 77 / 127 )\n",
      "..Extracting  train/REUTERS_CORPUS_2/19970502.zip \t( 78 / 127 )\n",
      "..Extracting  train/REUTERS_CORPUS_2/19970613.zip \t( 79 / 127 )\n",
      "..Extracting  train/REUTERS_CORPUS_2/19970623.zip \t( 80 / 127 )\n",
      "..Extracting  train/REUTERS_CORPUS_2/19970816.zip \t( 81 / 127 )\n",
      "..Extracting  train/REUTERS_CORPUS_2/19970607.zip \t( 82 / 127 )\n",
      "..Extracting  train/REUTERS_CORPUS_2/19970727.zip \t( 83 / 127 )\n",
      "..Extracting  train/REUTERS_CORPUS_2/19970515.zip \t( 84 / 127 )\n",
      "..Extracting  train/REUTERS_CORPUS_2/19970711.zip \t( 85 / 127 )\n",
      "..Extracting  train/REUTERS_CORPUS_2/19970504.zip \t( 86 / 127 )\n",
      "..Extracting  train/REUTERS_CORPUS_2/19970704.zip \t( 87 / 127 )\n",
      "..Extracting  train/REUTERS_CORPUS_2/19970717.zip \t( 88 / 127 )\n",
      "..Extracting  train/REUTERS_CORPUS_2/19970524.zip \t( 89 / 127 )\n",
      "..Extracting  train/REUTERS_CORPUS_2/19970416.zip \t( 90 / 127 )\n",
      "..Extracting  train/REUTERS_CORPUS_2/19970405.zip \t( 91 / 127 )\n",
      "..Extracting  train/REUTERS_CORPUS_2/19970713.zip \t( 92 / 127 )\n",
      "..Extracting  train/REUTERS_CORPUS_2/19970605.zip \t( 93 / 127 )\n",
      "..Extracting  train/REUTERS_CORPUS_2/19970508.zip \t( 94 / 127 )\n",
      "..Extracting  train/REUTERS_CORPUS_2/19970804.zip \t( 95 / 127 )\n",
      "..Extracting  train/REUTERS_CORPUS_2/19970625.zip \t( 96 / 127 )\n",
      "..Extracting  train/REUTERS_CORPUS_2/19970611.zip \t( 97 / 127 )\n",
      "..Extracting  train/REUTERS_CORPUS_2/19970701.zip \t( 98 / 127 )\n",
      "..Extracting  train/REUTERS_CORPUS_2/19970618.zip \t( 99 / 127 )\n",
      "..Extracting  train/REUTERS_CORPUS_2/19970528.zip \t( 100 / 127 )\n",
      "..Extracting  train/REUTERS_CORPUS_2/19970803.zip \t( 101 / 127 )\n",
      "..Extracting  train/REUTERS_CORPUS_2/19970425.zip \t( 102 / 127 )\n",
      "..Extracting  train/REUTERS_CORPUS_2/19970627.zip \t( 103 / 127 )\n",
      "..Extracting  train/REUTERS_CORPUS_2/19970722.zip \t( 104 / 127 )\n",
      "..Extracting  train/REUTERS_CORPUS_2/19970602.zip \t( 105 / 127 )\n",
      "..Extracting  train/REUTERS_CORPUS_2/19970714.zip \t( 106 / 127 )\n",
      "..Extracting  train/REUTERS_CORPUS_2/19970809.zip \t( 107 / 127 )\n",
      "..Extracting  train/REUTERS_CORPUS_2/19970718.zip \t( 108 / 127 )\n",
      "..Extracting  train/REUTERS_CORPUS_2/19970401.zip \t( 109 / 127 )\n",
      "..Extracting  train/REUTERS_CORPUS_2/19970603.zip \t( 110 / 127 )\n",
      "..Extracting  train/REUTERS_CORPUS_2/19970620.zip \t( 111 / 127 )\n",
      "..Extracting  train/REUTERS_CORPUS_2/19970428.zip \t( 112 / 127 )\n",
      "..Extracting  train/REUTERS_CORPUS_2/19970402.zip \t( 113 / 127 )\n",
      "..Extracting  train/REUTERS_CORPUS_2/19970426.zip \t( 114 / 127 )\n",
      "..Extracting  train/REUTERS_CORPUS_2/19970501.zip \t( 115 / 127 )\n",
      "..Extracting  train/REUTERS_CORPUS_2/19970606.zip \t( 116 / 127 )\n",
      "..Extracting  train/REUTERS_CORPUS_2/19970716.zip \t( 117 / 127 )\n",
      "..Extracting  train/REUTERS_CORPUS_2/19970427.zip \t( 118 / 127 )\n",
      "..Extracting  train/REUTERS_CORPUS_2/19970527.zip \t( 119 / 127 )\n",
      "..Extracting  train/REUTERS_CORPUS_2/19970521.zip \t( 120 / 127 )\n",
      "..Extracting  train/REUTERS_CORPUS_2/19970617.zip \t( 121 / 127 )\n",
      "..Extracting  train/REUTERS_CORPUS_2/19970531.zip \t( 122 / 127 )\n",
      "..Extracting  train/REUTERS_CORPUS_2/19970413.zip \t( 123 / 127 )\n",
      "..Extracting  train/REUTERS_CORPUS_2/19970514.zip \t( 124 / 127 )\n",
      "..Extracting  train/REUTERS_CORPUS_2/19970801.zip \t( 125 / 127 )\n",
      "..Extracting  train/REUTERS_CORPUS_2/19970421.zip \t( 126 / 127 )\n",
      "..Extracting  train/REUTERS_CORPUS_2/19970724.zip \t( 127 / 127 )\n",
      "Extracting train labels\n"
     ]
    }
   ],
   "source": [
    "# Extracting the zips issued from the dataset file\n",
    "zip_files =  [zip_path+f for f in os.listdir(zip_path) \\\n",
    "              if os.path.isfile(os.path.join(zip_path, f))\\\n",
    "              and f.endswith(\".zip\")]\n",
    "zip_data  = [f for f in zip_files\\\n",
    "             if \"codes\" not in f \n",
    "             and \"dtds\" not in f] # Train data is all files like 132456.zip, excluding code.zip and dtds.zip\n",
    "\n",
    "print(\"Extracting train data\")\n",
    "for i, zfpath in enumerate(zip_data):\n",
    "    print(\"..Extracting \", zfpath, \"\\t(\", i+1, \"/\", len(zip_data),\")\")\n",
    "    with zipfile.ZipFile(zfpath) as zf:\n",
    "        zf.extractall(txt_path)\n",
    "# Exporting codes\n",
    "\n",
    "print(\"Extracting train labels\")\n",
    "with zipfile.ZipFile(zip_path+\"codes.zip\") as zf:\n",
    "    zf.extractall(txt_path+\"labels/\")"
   ]
  },
  {
   "cell_type": "markdown",
   "metadata": {},
   "source": [
    "### Dataset parsing"
   ]
  },
  {
   "cell_type": "code",
   "execution_count": 124,
   "metadata": {},
   "outputs": [],
   "source": [
    "# Here goes your code ...\n",
    "#from xml.dom import minidom\n",
    "#files = [txt_path+f for f in os.listdir(txt_path) \\\n",
    "#              if os.path.isfile(os.path.join(txt_path, f))]\n",
    "#print(len(files))\n",
    "#print(files[1])\n",
    "\n",
    "#file_to_parse = files[1]\n",
    "##with open(files[0], \"r\") as f:\n",
    "##    content = f.read()\n",
    "##print(content)\n",
    "#xmldoc = minidom.parse(file_to_parse)\n",
    "#for node in xmldoc.getElementsByTagName('code'):\n",
    "#    print(\"LABEL:\", node.attributes.items()[0][1])\n",
    "#textnode = xmldoc.getElementsByTagName('text')\n",
    "#hlnode = xmldoc.getElementsByTagName('headline')\n",
    "##dir(hlnode[0])\n",
    "#headline = hlnode[0].firstChild.toxml()\n",
    "#print(\"HEADLINE:\", headline)\n",
    "#print(dir(textnode[0]))\n",
    "##print(\"TEXT:\", textnode[0].toxml())\n",
    "#def extract_text(graph, acc):\n",
    "#    # Depth first search to extract text from xml tree\n",
    "#    for children in graph.childNodes:\n",
    "#        pass\n",
    "#    return acc\n",
    "#print(textnode[0].toxml())\n",
    "#for c in textnode[0].childNodes:\n",
    "#    #print(c.toxml())\n",
    "#    print(c.childNodes.toxml())"
   ]
  },
  {
   "cell_type": "code",
   "execution_count": 16,
   "metadata": {},
   "outputs": [],
   "source": [
    "# Creation of a dictionnary allowing to link code labels to their actual meanings.\n",
    "# For example : the code I50100 stands for \"CONSTRUCTION OF BUILDINGS\"\n",
    "# Codes are the labels we will try to predict.\n",
    "codes_path = txt_path+\"labels/\"\n",
    "code_files = [codes_path+f for f in os.listdir(codes_path) \\\n",
    "              if os.path.isfile(os.path.join(codes_path, f))\n",
    "              and not f.startswith(\"readme\")]\n",
    "\n",
    "code_meaning_dict={} # Creating a dictionnary linking a code label to its meaning.\n",
    "for code_file in code_files:\n",
    "    with open(code_file) as f:\n",
    "        tmp = f.read().split(\"\\n\")\n",
    "    code_file_txt = \"\"\n",
    "    \n",
    "    for line in tmp: \n",
    "        if not line.startswith(\";\") and line!=\"\": # Dropping comments and empty lines\n",
    "            code_tuple = line.split(\"\\t\") # [Code, meaning]\n",
    "            if code_tuple[0] in code_meaning_dict.keys():\n",
    "                print(\"COLLISION!\", file=sys.stderr) # Checking a code doesn't happen twice \n",
    "                                                     # (relatively to the different categories)\n",
    "                # No collision observed ; It is therefore safe to use a single dictionnary for all codes\n",
    "            code_meaning_dict[code_tuple[0]] = code_tuple[1]"
   ]
  },
  {
   "cell_type": "code",
   "execution_count": 23,
   "metadata": {},
   "outputs": [
    {
     "name": "stdout",
     "output_type": "stream",
     "text": [
      "FILE: train/extracted/765168newsML.xml\n",
      "HEADLINE: June new-home sales up, inventories lean.\n",
      "TEXT: Brisk new-home sales in June pulled the supply of houses on the market to a four-year low, the Commerce Department said on Wednesday, as an expanding economy braced consumer demand.\n",
      "Sales increased 6.1 percent in June to a seasonally adjusted annual rate of 819,000 units after a steeply revised 1 percent rise to 772,000 in May.\n",
      "Previously, the department said May sales had jumped 7.1 percent to a much higher rate of 825,000. Commerce also revised down sales for March and April from levels that it had estimated earlier.\n",
      "Analysts said widespread revisions, especially the big downward change in May sales, complicated interpetation of the monthly figures. But, they said the positive trend on a year-over-year basis combined with slim inventories increased chances that sales could set a new record this year.\n",
      "\"We are on target to shatter the record for home sales of 757,000 units set last year,\" said Joel Naroff, an economist for First Union Corp. of Charlotte, N.C.\n",
      "Naroff said rising incomes, high levels of consumer confidence and a soaring stock market have bolstered homeowners' buying power.\n",
      "Michael Carliner, an economist with the National Association of Home Builders, said sales for the full year should hit 800,000. The monthly selling pace likely will ease in the second half, he added, but at a lofty enough level to ensure a record for full-year sales.\n",
      "June sales were running 11.9 percent above the level a year earlier, when new homes were selling at a rate of 732,000 a year.\n",
      "The supply of homes on the market was down to 282,000 by the end of June from 283,000 in May -- the lowest inventory level since July 1993, when only 278,000 homes were available.\n",
      "\"Very low inventory levels suggest that housing sales should continue at least at this robust level through the end of the summer and that construction activity will be strong through the fall as they balance inventories,\" said economist Eileen Neely of Fannie Mae, the government-sponsored agency that packages home mortgages for resale to investors.\n",
      "At June's sales pace there was only a 4.2-month supply of new homes on the market, the lowest in 26 years, since a 4.1-month supply in July 1971.\n",
      "Naroff of First Union noted that the housing industry's momentum should reinforce the economy, already in its seventh year of growth since the last recession ended in March 1991.\n",
      "\"As households furnish their newly purchased homes, the impacts on durable goods industries and housing-related industries will be great, with the spending continuing through next spring at least,\" he said.\n",
      "Monthly sales increased in every region during June except the Northeast, where they dropped 21.1 percent to 71,000 after a 3.4 percent increase in May.\n",
      "Midwest sales climbed 7 percent to 153,000 after a 9.2 percent increase in May, and in the South sales were up 9.2 percent following a 1.2 percent gain in May.\n",
      "Sales in the West increased strongly by 12.4 percent to 226,000 in June after a 5.2 percent decline in May.\n",
      "The average home sales price climbed to $176,400 in June from $168,500 in May.\n",
      "LABELS: ['USA', 'I50100', 'I5010022', 'I85000', 'I8500031', 'C31', 'CCAT', 'ECAT']\n",
      "LABELS' MEANING: ['UNITED STATES OF AMERICA', 'CONSTRUCTION OF BUILDINGS', 'RESIDENTIAL CONSTRUCTION', 'REAL ESTATE DEALING', 'RESIDENTIAL REAL ESTATE BUYING, SELLING', 'MARKETS/MARKETING', 'CORPORATE/INDUSTRIAL', 'ECONOMICS']\n"
     ]
    },
    {
     "name": "stderr",
     "output_type": "stream",
     "text": [
      "<?xml version=\"1.0\" encoding=\"iso-8859-1\" ?>\n",
      "<newsitem itemid=\"765168\" id=\"root\" date=\"1997-07-30\" xml:lang=\"en\">\n",
      "<title>USA: June new-home sales up, inventories lean.</title>\n",
      "<headline>June new-home sales up, inventories lean.</headline>\n",
      "<byline>Glenn Somerville</byline>\n",
      "<dateline>WASHINGTON 1997-07-30</dateline>\n",
      "<text>\n",
      "<p>Brisk new-home sales in June pulled the supply of houses on the market to a four-year low, the Commerce Department said on Wednesday, as an expanding economy braced consumer demand.</p>\n",
      "<p>Sales increased 6.1 percent in June to a seasonally adjusted annual rate of 819,000 units after a steeply revised 1 percent rise to 772,000 in May.</p>\n",
      "<p>Previously, the department said May sales had jumped 7.1 percent to a much higher rate of 825,000. Commerce also revised down sales for March and April from levels that it had estimated earlier.</p>\n",
      "<p>Analysts said widespread revisions, especially the big downward change in May sales, complicated interpetation of the monthly figures. But, they said the positive trend on a year-over-year basis combined with slim inventories increased chances that sales could set a new record this year.</p>\n",
      "<p>&quot;We are on target to shatter the record for home sales of 757,000 units set last year,&quot; said Joel Naroff, an economist for First Union Corp. of Charlotte, N.C.</p>\n",
      "<p>Naroff said rising incomes, high levels of consumer confidence and a soaring stock market have bolstered homeowners' buying power.</p>\n",
      "<p>Michael Carliner, an economist with the National Association of Home Builders, said sales for the full year should hit 800,000. The monthly selling pace likely will ease in the second half, he added, but at a lofty enough level to ensure a record for full-year sales.</p>\n",
      "<p>June sales were running 11.9 percent above the level a year earlier, when new homes were selling at a rate of 732,000 a year.</p>\n",
      "<p>The supply of homes on the market was down to 282,000 by the end of June from 283,000 in May -- the lowest inventory level since July 1993, when only 278,000 homes were available.</p>\n",
      "<p>&quot;Very low inventory levels suggest that housing sales should continue at least at this robust level through the end of the summer and that construction activity will be strong through the fall as they balance inventories,&quot; said economist Eileen Neely of Fannie Mae, the government-sponsored agency that packages home mortgages for resale to investors.</p>\n",
      "<p>At June's sales pace there was only a 4.2-month supply of new homes on the market, the lowest in 26 years, since a 4.1-month supply in July 1971.</p>\n",
      "<p>Naroff of First Union noted that the housing industry's momentum should reinforce the economy, already in its seventh year of growth since the last recession ended in March 1991.</p>\n",
      "<p>&quot;As households furnish their newly purchased homes, the impacts on durable goods industries and housing-related industries will be great, with the spending continuing through next spring at least,&quot; he said.</p>\n",
      "<p>Monthly sales increased in every region during June except the Northeast, where they dropped 21.1 percent to 71,000 after a 3.4 percent increase in May.</p>\n",
      "<p>Midwest sales climbed 7 percent to 153,000 after a 9.2 percent increase in May, and in the South sales were up 9.2 percent following a 1.2 percent gain in May.</p>\n",
      "<p>Sales in the West increased strongly by 12.4 percent to 226,000 in June after a 5.2 percent decline in May.</p>\n",
      "<p>The average home sales price climbed to $176,400 in June from $168,500 in May.</p>\n",
      "</text>\n",
      "<copyright>(c) Reuters Limited 1997</copyright>\n",
      "<metadata>\n",
      "<codes class=\"bip:countries:1.0\">\n",
      "  <code code=\"USA\">\n",
      "    <editdetail attribution=\"Reuters BIP Coding Group\" action=\"confirmed\" date=\"1997-07-30\"/>\n",
      "  </code>\n",
      "</codes>\n",
      "<codes class=\"bip:industries:1.0\">\n",
      "  <code code=\"I50100\">\n",
      "    <editdetail attribution=\"Reuters BIP Coding Group\" action=\"confirmed\" date=\"1997-07-30\"/>\n",
      "  </code>\n",
      "  <code code=\"I5010022\">\n",
      "    <editdetail attribution=\"Reuters BIP Coding Group\" action=\"confirmed\" date=\"1997-07-30\"/>\n",
      "  </code>\n",
      "  <code code=\"I85000\">\n",
      "    <editdetail attribution=\"Reuters BIP Coding Group\" action=\"confirmed\" date=\"1997-07-30\"/>\n",
      "  </code>\n",
      "  <code code=\"I8500031\">\n",
      "    <editdetail attribution=\"Reuters BIP Coding Group\" action=\"confirmed\" date=\"1997-07-30\"/>\n",
      "  </code>\n",
      "</codes>\n",
      "<codes class=\"bip:topics:1.0\">\n",
      "  <code code=\"C31\">\n",
      "    <editdetail attribution=\"Reuters BIP Coding Group\" action=\"confirmed\" date=\"1997-07-30\"/>\n",
      "  </code>\n",
      "  <code code=\"CCAT\">\n",
      "    <editdetail attribution=\"Reuters BIP Coding Group\" action=\"confirmed\" date=\"1997-07-30\"/>\n",
      "  </code>\n",
      "  <code code=\"ECAT\">\n",
      "    <editdetail attribution=\"Reuters BIP Coding Group\" action=\"confirmed\" date=\"1997-07-30\"/>\n",
      "  </code>\n",
      "</codes>\n",
      "<dc element=\"dc.date.created\" value=\"1997-07-30\"/>\n",
      "<dc element=\"dc.publisher\" value=\"Reuters Holdings Plc\"/>\n",
      "<dc element=\"dc.date.published\" value=\"1997-07-30\"/>\n",
      "<dc element=\"dc.source\" value=\"Reuters\"/>\n",
      "<dc element=\"dc.creator.location\" value=\"WASHINGTON\"/>\n",
      "<dc element=\"dc.creator.location.country.name\" value=\"USA\"/>\n",
      "<dc element=\"dc.source\" value=\"Reuters\"/>\n",
      "</metadata>\n",
      "</newsitem>\n",
      "\n"
     ]
    }
   ],
   "source": [
    "from xml.etree import ElementTree as ET\n",
    "# ElementTree much more performant than xml.dom (100 times)\n",
    "# because based on C. cElementTree deprecated, use ElementTree instead\n",
    "# ref : http://effbot.org/zone/celementtree.htm\n",
    "#       https://docs.python.org/3/library/xml.etree.elementtree.html#module-xml.etree.ElementTree\n",
    "\n",
    "files = [txt_path+f for f in os.listdir(txt_path) \\\n",
    "              if os.path.isfile(os.path.join(txt_path, f))]\n",
    "file_to_parse = files[1658] # Define arbritrarily\n",
    "\n",
    "\n",
    "def parse_article(xml_str):\n",
    "    \"\"\" extracts data (headine, text and labels/codes) from a xml formatted article into a dictionnary (json-like) \"\"\"\n",
    "    xml_tree = ET.fromstring(xml_str) # xml tree\n",
    "    res = {}\n",
    "    for node in list(xml_tree):\n",
    "        if node.tag==\"headline\":\n",
    "            res[\"headline\"] = node.text\n",
    "        elif node.tag==\"text\":\n",
    "            res[\"text\"]=\"\"\n",
    "            # The text is included in paragraph subnodes <p>\n",
    "            for paragraph_texts in node.itertext(): #entering <p>\n",
    "                res[\"text\"] += paragraph_texts\n",
    "            res[\"text\"] = res[\"text\"][1:-1] # Text is surrounded by \\n, stripping them\n",
    "\n",
    "        elif node.tag==\"metadata\":\n",
    "            res[\"codes\"] = []\n",
    "            for codesNode in node.findall(\"codes\"): #entering <codes>\n",
    "                for codeNode in codesNode.findall(\"code\"): #entering <code>\n",
    "                    res[\"codes\"].append(codeNode.attrib[\"code\"])\n",
    "    return res\n",
    "\n",
    "file_to_parse = files[1658]\n",
    "\n",
    "with open(file_to_parse) as f:\n",
    "    xml_str = f.read()\n",
    "parsed = parse_article(xml_str)\n",
    "\n",
    "print(\"FILE:\", file_to_parse)\n",
    "print(\"HEADLINE:\", parsed[\"headline\"])\n",
    "print(\"TEXT:\", parsed[\"text\"])\n",
    "print(\"LABELS:\", parsed[\"codes\"])\n",
    "codes_meaning = []\n",
    "for code in parsed[\"codes\"]:\n",
    "    codes_meaning.append(code_meaning_dict[code])\n",
    "print(\"LABELS' MEANING:\", codes_meaning)\n",
    "print(xml_str, file=sys.stderr)"
   ]
  },
  {
   "cell_type": "code",
   "execution_count": 22,
   "metadata": {},
   "outputs": [
    {
     "name": "stdout",
     "output_type": "stream",
     "text": [
      "1362\n"
     ]
    }
   ],
   "source": [
    "# Number of different labels\n",
    "print(len(code_meaning_dict.keys())) "
   ]
  },
  {
   "cell_type": "markdown",
   "metadata": {},
   "source": [
    "### Neural network stuff (todo)"
   ]
  },
  {
   "cell_type": "code",
   "execution_count": 9,
   "metadata": {},
   "outputs": [],
   "source": [
    "# Note : Data pre-processing and neural network things could be done into two separate notebooks \n",
    "# files as they will have little common variables"
   ]
  },
  {
   "cell_type": "markdown",
   "metadata": {},
   "source": [
    "## Save your model\n",
    "\n",
    "It might be useful to save your model if you want to continue your work later, or use it for inference later."
   ]
  },
  {
   "cell_type": "code",
   "execution_count": 2,
   "metadata": {},
   "outputs": [
    {
     "ename": "NameError",
     "evalue": "name 'model' is not defined",
     "output_type": "error",
     "traceback": [
      "\u001b[0;31m---------------------------------------------------------------------------\u001b[0m",
      "\u001b[0;31mNameError\u001b[0m                                 Traceback (most recent call last)",
      "\u001b[0;32m<ipython-input-2-8002db8cca40>\u001b[0m in \u001b[0;36m<module>\u001b[0;34m\u001b[0m\n\u001b[0;32m----> 1\u001b[0;31m \u001b[0mtorch\u001b[0m\u001b[0;34m.\u001b[0m\u001b[0msave\u001b[0m\u001b[0;34m(\u001b[0m\u001b[0mmodel\u001b[0m\u001b[0;34m.\u001b[0m\u001b[0mstate_dict\u001b[0m\u001b[0;34m(\u001b[0m\u001b[0;34m)\u001b[0m\u001b[0;34m,\u001b[0m \u001b[0;34m'model.pkl'\u001b[0m\u001b[0;34m)\u001b[0m\u001b[0;34m\u001b[0m\u001b[0;34m\u001b[0m\u001b[0m\n\u001b[0m",
      "\u001b[0;31mNameError\u001b[0m: name 'model' is not defined"
     ]
    }
   ],
   "source": [
    "torch.save(model.state_dict(), 'model.pkl')"
   ]
  },
  {
   "cell_type": "markdown",
   "metadata": {},
   "source": [
    "The model file should now be visible in the \"Home\" screen of the jupyter notebooks interface.  There you should be able to select it and press \"download\".\n",
    "\n",
    "## Download test set\n",
    "\n",
    "The testset will be made available during the last week before the deadline and can be downloaded in the same way as the training set.\n",
    "\n",
    "## Predict for test set\n",
    "\n",
    "You will be asked to return your predictions a separate test set.  These should be returned as a matrix with one row for each test article.  Each row contains a binary prediction for each label, 1 if it's present in the image, and 0 if not. The order of the labels is the order of the label (topic) codes.\n",
    "\n",
    "An example row could like like this if your system predicts the presense of the second and fourth topic:\n",
    "\n",
    "    0 1 0 1 0 0 0 0 0 0 0 0 0 0 ...\n",
    "    \n",
    "If you have the matrix prepared in `y` you can use the following function to save it to a text file."
   ]
  },
  {
   "cell_type": "code",
   "execution_count": null,
   "metadata": {},
   "outputs": [],
   "source": [
    "np.savetxt('results.txt', y, fmt='%d')"
   ]
  }
 ],
 "metadata": {
  "kernelspec": {
   "display_name": "Python 3",
   "language": "python",
   "name": "python3"
  },
  "language_info": {
   "codemirror_mode": {
    "name": "ipython",
    "version": 3
   },
   "file_extension": ".py",
   "mimetype": "text/x-python",
   "name": "python",
   "nbconvert_exporter": "python",
   "pygments_lexer": "ipython3",
   "version": "3.7.1"
  }
 },
 "nbformat": 4,
 "nbformat_minor": 2
}
